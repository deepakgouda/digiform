{
 "cells": [
  {
   "cell_type": "code",
   "execution_count": 34,
   "metadata": {
    "collapsed": true
   },
   "outputs": [],
   "source": [
    "import torch.nn as nn\n",
    "import torch.nn.functional as F\n",
    "from torch.autograd import Variable\n",
    "import torch\n",
    "import numpy as np\n",
    "from PIL import Image\n",
    "import cv2\n",
    "import matplotlib.pyplot as plt\n",
    "import os\n",
    "from scipy.misc import toimage\n",
    "%matplotlib inline"
   ]
  },
  {
   "cell_type": "code",
   "execution_count": 9,
   "metadata": {
    "collapsed": true
   },
   "outputs": [],
   "source": [
    "\n",
    "class Net(nn.Module):\n",
    "    def __init__(self):\n",
    "        super(Net, self).__init__()\n",
    "        self.conv1 = nn.Conv2d(3, 8, kernel_size=3,padding=1)\n",
    "        self.conv2 = nn.Conv2d(8, 16, kernel_size=3,padding=1)\n",
    "        self.fc1 = nn.Linear(8*8*16,256)\n",
    "        self.fc2 = nn.Linear(256,47)\n",
    "      \n",
    "\n",
    "    def forward(self, x):\n",
    "        x = self.conv1(x)\n",
    "        x = F.relu(x)\n",
    "        x = F.max_pool2d(x,2)\n",
    "        x = self.conv2(x)\n",
    "        x = F.relu(x)\n",
    "        x = F.max_pool2d(x,2)\n",
    "        print(x.shape)\n",
    "        x = x.view(-1, 16*8*8)\n",
    "        x = self.fc1(x)\n",
    "        x = F.relu(x)\n",
    "        x = self.fc2(x)\n",
    "        return x\n",
    "\n",
    "model = Net()\n",
    "model.load_state_dict(torch.load(\"model.pth\"))\n"
   ]
  },
  {
   "cell_type": "code",
   "execution_count": 67,
   "metadata": {},
   "outputs": [
    {
     "name": "stdout",
     "output_type": "stream",
     "text": [
      "['[303 291', '17', '22 303 269', '17', '22 320 291', '19', '22 320 269', '19', '22 338 269\\n', '19', '22 339 291', '19', '21 357 291', '18', '21]']\n"
     ]
    }
   ],
   "source": [
    "f = open('Boxes.txt','r')\n",
    "lines = f.read().split('  ')\n",
    "print(lines)"
   ]
  },
  {
   "cell_type": "code",
   "execution_count": 61,
   "metadata": {
    "scrolled": true
   },
   "outputs": [
    {
     "ename": "SyntaxError",
     "evalue": "invalid syntax (<ipython-input-61-57abaf491954>, line 2)",
     "output_type": "error",
     "traceback": [
      "\u001b[1;36m  File \u001b[1;32m\"<ipython-input-61-57abaf491954>\"\u001b[1;36m, line \u001b[1;32m2\u001b[0m\n\u001b[1;33m    image =\u001b[0m\n\u001b[1;37m            ^\u001b[0m\n\u001b[1;31mSyntaxError\u001b[0m\u001b[1;31m:\u001b[0m invalid syntax\n"
     ]
    }
   ],
   "source": [
    "#data = Image.open(\"data/d/54/hsf_0_00025.png\")\n",
    "image = \n",
    "\n",
    "for i in inputs:\n",
    "    for xt,yt,xb,yb in i[\"box\"]:\n",
    "        data = image[xt:xb,yt:yb,:]\n",
    "        data = data.resize((32,32))\n",
    "        in_data = np.transpose(data, (2,0,1))\n",
    "        final = in_data/255\n",
    "        images.append(final)\n",
    "        \n",
    "data = Variable(torch.Tensor(images))\n",
    "output = model(data)\n",
    "ans = torch.max(output,dim=1)[1]\n",
    "\n",
    "couter = 0\n",
    "for i in inputs:\n",
    "    for xt,yt,xb,yb in i[\"box\"]:\n",
    "        temp.append(ans[counter])\n",
    "        counter = counter + 1\n",
    "    temp2.append(temp)\n",
    "\n",
    "print(temp2)"
   ]
  },
  {
   "cell_type": "markdown",
   "metadata": {},
   "source": [
    "Single Image"
   ]
  },
  {
   "cell_type": "code",
   "execution_count": 16,
   "metadata": {},
   "outputs": [
    {
     "data": {
      "image/png": "[encoded data removed]",
      "text/plain": [
       "<PIL.Image.Image image mode=RGB size=26x45 at 0x2482E9DD438>"
      ]
     },
     "execution_count": 16,
     "metadata": {},
     "output_type": "execute_result"
    }
   ],
   "source": [
    "im = Image.open(\"trail.jpg\")\n",
    "t = im.crop((568,1010,594,1055))\n",
    "t"
   ]
  },
  {
   "cell_type": "code",
   "execution_count": 17,
   "metadata": {},
   "outputs": [],
   "source": [
    "t =t.resize((32,32))\n",
    "in_data = np.transpose(t, (0,1,2))\n",
    "\n",
    "t = (in_data >150)*255"
   ]
  },
  {
   "cell_type": "code",
   "execution_count": 46,
   "metadata": {},
   "outputs": [],
   "source": [
    "toimage(t).show()"
   ]
  },
  {
   "cell_type": "code",
   "execution_count": 36,
   "metadata": {},
   "outputs": [
    {
     "name": "stdout",
     "output_type": "stream",
     "text": [
      "torch.Size([1, 16, 8, 8])\n",
      "Variable containing:\n",
      " 37\n",
      "[torch.LongTensor of size 1]\n",
      "\n"
     ]
    }
   ],
   "source": [
    "#data = Image.open(\"data/d/55_75/hsf_0_00008.png\")\n",
    "#data = data.resize((32,32))\n",
    "\n",
    "data = t\n",
    "in_data = np.transpose(data, (2,0,1))\n",
    "final = in_data/255\n",
    "images = []\n",
    "images.append(final)\n",
    "\n",
    "data = Variable(torch.Tensor(images))\n",
    "output = model(data)\n",
    "ans = torch.max(output,dim=1)[1]\n",
    "print(ans)"
   ]
  },
  {
   "cell_type": "code",
   "execution_count": 37,
   "metadata": {
    "collapsed": true
   },
   "outputs": [],
   "source": [
    "yash = [[172, 371, 17, 22], [189, 371, 18, 22], [207, 371, 18, 22], [225, 371, 18, 22], [243, 371, 18, 22], [261, 371, 18, 22], [279, 371, 18, 22], [297, 371, 18, 22], [315, 371, 18, 22], [333, 371, 18, 22], [350, 371, 18, 22], [368, 371, 18, 22], [386, 371, 18, 22], [404, 371, 18, 22], [422, 371, 18, 22], [440, 371, 19, 22], [458, 370, 19, 23], [477, 370, 19, 23], [496, 370, 18, 23], [514, 370, 19, 23], [533, 370, 18, 23], [551, 370, 18, 23], [569, 370, 18, 23], [587, 370, 18, 23], [605, 370, 18, 23]]\n",
    "deepak = [[112, 21, 19, 25], [116, 27, 11, 16], [129, 21, 21, 25], [149, 23, 19, 23], [168, 22, 19, 24], [187, 22, 19, 23], [205, 22, 19, 23], [224, 22, 19, 23], [242, 22, 19, 23], [279, 22, 19, 23], [297, 21, 19, 23], [316, 21, 19, 23], [353, 21, 19, 23], [371, 21, 19, 22], [409, 21, 18, 22], [427, 21, 19, 22], [446, 21, 18, 22], [464, 21, 19, 22], [483, 21, 18, 22], [501, 21, 18, 22], [519, 21, 18, 22], [537, 21, 18, 22], [555, 21, 19, 22]]"
   ]
  },
  {
   "cell_type": "code",
   "execution_count": 38,
   "metadata": {
    "collapsed": true
   },
   "outputs": [],
   "source": [
    "image = Image.open(\"test3.jpg\")\n",
    "image = image.resize((588,650))\n",
    "\n",
    "images =[]\n",
    "for x,y,w,h in deepak:\n",
    "    data = image.crop((x,y,x+w,y+h))\n",
    "    data\n",
    "    data = data.resize((32,32))\n",
    "    in_data = np.transpose(data, (2,0,1))\n",
    "    in_data = (in_data >120)*255\n",
    "    final = in_data/255\n",
    "    images.append(final)\n"
   ]
  },
  {
   "cell_type": "code",
   "execution_count": 39,
   "metadata": {},
   "outputs": [
    {
     "name": "stdout",
     "output_type": "stream",
     "text": [
      "torch.Size([23, 16, 8, 8])\n"
     ]
    }
   ],
   "source": [
    "data = Variable(torch.Tensor(images))\n",
    "output = model(data)\n",
    "ans = torch.max(output,dim=1)[1]"
   ]
  },
  {
   "cell_type": "code",
   "execution_count": 40,
   "metadata": {},
   "outputs": [],
   "source": [
    "#_,mapping = find_classes(\"data/d/\")\n",
    "mapping = {0: '30',\n",
    " 1: '31',\n",
    " 2: '32',\n",
    " 3: '33',\n",
    " 4: '34',\n",
    " 5: '35',\n",
    " 6: '36',\n",
    " 7: '37',\n",
    " 8: '38',\n",
    " 9: '39',\n",
    " 10: '41',\n",
    " 11: '42',\n",
    " 12: '43_63',\n",
    " 13: '44',\n",
    " 14: '45',\n",
    " 15: '46',\n",
    " 16: '47',\n",
    " 17: '48',\n",
    " 18: '49_69',\n",
    " 19: '4a_6a',\n",
    " 20: '4b_6b',\n",
    " 21: '4c_6c',\n",
    " 22: '4d_6d',\n",
    " 23: '4e',\n",
    " 24: '4f_6f',\n",
    " 25: '50_70',\n",
    " 26: '51',\n",
    " 27: '52',\n",
    " 28: '53_73',\n",
    " 29: '54',\n",
    " 30: '55_75',\n",
    " 31: '56_76',\n",
    " 32: '57_77',\n",
    " 33: '58_78',\n",
    " 34: '59_79',\n",
    " 35: '5a_7a',\n",
    " 36: '61',\n",
    " 37: '62',\n",
    " 38: '64',\n",
    " 39: '65',\n",
    " 40: '66',\n",
    " 41: '67',\n",
    " 42: '68',\n",
    " 43: '6e',\n",
    " 44: '71',\n",
    " 45: '72',\n",
    " 46: '74'}"
   ]
  },
  {
   "cell_type": "code",
   "execution_count": 47,
   "metadata": {},
   "outputs": [
    {
     "name": "stdout",
     "output_type": "stream",
     "text": [
      "W\n",
      "d\n",
      "2\n",
      "B\n",
      "W\n",
      "L\n",
      "L\n",
      "U\n",
      "U\n",
      "2\n",
      "2\n",
      "1\n",
      "W\n",
      "G\n",
      "3\n",
      "1\n",
      "L\n",
      "1\n",
      "1\n",
      "L\n",
      "1\n",
      "1\n",
      "1\n"
     ]
    }
   ],
   "source": [
    "for i in ans:\n",
    "    temp = mapping[i.data.numpy()[0]][:2]\n",
    "    print(chr(int(temp,16)))"
   ]
  },
  {
   "cell_type": "code",
   "execution_count": 42,
   "metadata": {
    "collapsed": true
   },
   "outputs": [],
   "source": [
    "def find_classes(dir):\n",
    "    classes = os.listdir(dir)\n",
    "    classes.sort()\n",
    "    class_to_idx = {i:classes[i] for i in range(len(classes))}\n",
    "    return classes, class_to_idx"
   ]
  },
  {
   "cell_type": "code",
   "execution_count": 50,
   "metadata": {},
   "outputs": [
    {
     "ename": "FileNotFoundError",
     "evalue": "[WinError 3] The system cannot find the path specified: 'data/d/'",
     "output_type": "error",
     "traceback": [
      "\u001b[1;31m---------------------------------------------------------------------------\u001b[0m",
      "\u001b[1;31mFileNotFoundError\u001b[0m                         Traceback (most recent call last)",
      "\u001b[1;32m<ipython-input-50-c43003c663f8>\u001b[0m in \u001b[0;36m<module>\u001b[1;34m()\u001b[0m\n\u001b[1;32m----> 1\u001b[1;33m \u001b[0m_\u001b[0m\u001b[1;33m,\u001b[0m\u001b[0mmapping\u001b[0m \u001b[1;33m=\u001b[0m \u001b[0mfind_classes\u001b[0m\u001b[1;33m(\u001b[0m\u001b[1;34m\"data/d/\"\u001b[0m\u001b[1;33m)\u001b[0m\u001b[1;33m\u001b[0m\u001b[0m\n\u001b[0m",
      "\u001b[1;32m<ipython-input-49-f7757ee09940>\u001b[0m in \u001b[0;36mfind_classes\u001b[1;34m(dir)\u001b[0m\n\u001b[0;32m      1\u001b[0m \u001b[1;32mdef\u001b[0m \u001b[0mfind_classes\u001b[0m\u001b[1;33m(\u001b[0m\u001b[0mdir\u001b[0m\u001b[1;33m)\u001b[0m\u001b[1;33m:\u001b[0m\u001b[1;33m\u001b[0m\u001b[0m\n\u001b[1;32m----> 2\u001b[1;33m     \u001b[0mclasses\u001b[0m \u001b[1;33m=\u001b[0m \u001b[0mos\u001b[0m\u001b[1;33m.\u001b[0m\u001b[0mlistdir\u001b[0m\u001b[1;33m(\u001b[0m\u001b[0mdir\u001b[0m\u001b[1;33m)\u001b[0m\u001b[1;33m\u001b[0m\u001b[0m\n\u001b[0m\u001b[0;32m      3\u001b[0m     \u001b[0mclasses\u001b[0m\u001b[1;33m.\u001b[0m\u001b[0msort\u001b[0m\u001b[1;33m(\u001b[0m\u001b[1;33m)\u001b[0m\u001b[1;33m\u001b[0m\u001b[0m\n\u001b[0;32m      4\u001b[0m     \u001b[0mclass_to_idx\u001b[0m \u001b[1;33m=\u001b[0m \u001b[1;33m{\u001b[0m\u001b[0mi\u001b[0m\u001b[1;33m:\u001b[0m\u001b[0mclasses\u001b[0m\u001b[1;33m[\u001b[0m\u001b[0mi\u001b[0m\u001b[1;33m]\u001b[0m \u001b[1;32mfor\u001b[0m \u001b[0mi\u001b[0m \u001b[1;32min\u001b[0m \u001b[0mrange\u001b[0m\u001b[1;33m(\u001b[0m\u001b[0mlen\u001b[0m\u001b[1;33m(\u001b[0m\u001b[0mclasses\u001b[0m\u001b[1;33m)\u001b[0m\u001b[1;33m)\u001b[0m\u001b[1;33m}\u001b[0m\u001b[1;33m\u001b[0m\u001b[0m\n\u001b[0;32m      5\u001b[0m     \u001b[1;32mreturn\u001b[0m \u001b[0mclasses\u001b[0m\u001b[1;33m,\u001b[0m \u001b[0mclass_to_idx\u001b[0m\u001b[1;33m\u001b[0m\u001b[0m\n",
      "\u001b[1;31mFileNotFoundError\u001b[0m: [WinError 3] The system cannot find the path specified: 'data/d/'"
     ]
    }
   ],
   "source": [
    "_,mapping = find_classes(\"data/d/\")"
   ]
  },
  {
   "cell_type": "code",
   "execution_count": 48,
   "metadata": {
    "collapsed": true
   },
   "outputs": [],
   "source": [
    "deepak = [[112, 21, 19, 25], [116, 27, 11, 16], [129, 21, 21, 25], [149, 23, 19, 23], [168, 22, 19, 24], [187, 22, 19, 23], [205, 22, 19, 23], [224, 22, 19, 23], [242, 22, 19, 23], [279, 22, 19, 23], [297, 21, 19, 23], [316, 21, 19, 23], [353, 21, 19, 23], [371, 21, 19, 22], [409, 21, 18, 22], [427, 21, 19, 22], [446, 21, 18, 22], [464, 21, 19, 22], [483, 21, 18, 22], [501, 21, 18, 22], [519, 21, 18, 22], [537, 21, 18, 22], [555, 21, 19, 22]]\n",
    "x,y,w,h  = deepak[3]\n",
    "data = image.crop((x,y,x+w,y+h))\n",
    "data = data.resize((32,32))\n",
    "data\n",
    "\n",
    "in_data = np.transpose(data, (2,0,1))\n",
    "in_data = (in_data >120)*255\n",
    "in_data = np.transpose(in_data, (1,2,0))\n",
    "\n",
    "for i in range(len(in_data)):\n",
    "    for j in range(len(in_data[i])):\n",
    "        if not (in_data[i][j][0] == in_data[i][j][1] and in_data[i][j][1] == in_data[i][j][2]):\n",
    "            in_data[i][j][0] = 0\n",
    "            in_data[i][j][1] = 0\n",
    "            in_data[i][j][2] = 0\n",
    "        if i <= 3 or j <= 3 or i >= 29 or j >=29:\n",
    "            in_data[i][j][0] = 255\n",
    "            in_data[i][j][1] = 255\n",
    "            in_data[i][j][2] = 255\n",
    "in_data = np.transpose(in_data, (2,0,1))\n"
   ]
  },
  {
   "cell_type": "code",
   "execution_count": 49,
   "metadata": {},
   "outputs": [
    {
     "name": "stdout",
     "output_type": "stream",
     "text": [
      "torch.Size([1, 16, 8, 8])\n",
      "Variable containing:\n",
      " 10\n",
      "[torch.LongTensor of size 1]\n",
      "\n",
      "A\n"
     ]
    }
   ],
   "source": [
    "\n",
    "final = in_data/255\n",
    "images = []\n",
    "images.append(final)\n",
    "\n",
    "data1 = Variable(torch.Tensor(images))\n",
    "output = model(data1)\n",
    "ans = torch.max(output,dim=1)[1]\n",
    "print(ans)\n",
    "temp = mapping[ans.data.numpy()[0]][:2]\n",
    "print(chr(int(temp,16)))\n",
    "#print(plt.imshow(np.transpose(in_data, (1,2,0))))\n",
    "toimage(np.transpose(in_data, (1,2,0))).show()"
   ]
  },
  {
   "cell_type": "code",
   "execution_count": 57,
   "metadata": {},
   "outputs": [
    {
     "data": {
      "text/plain": [
       "{0: '30',\n",
       " 1: '31',\n",
       " 2: '32',\n",
       " 3: '33',\n",
       " 4: '34',\n",
       " 5: '35',\n",
       " 6: '36',\n",
       " 7: '37',\n",
       " 8: '38',\n",
       " 9: '39',\n",
       " 10: '41',\n",
       " 11: '42',\n",
       " 12: '43_63',\n",
       " 13: '44',\n",
       " 14: '45',\n",
       " 15: '46',\n",
       " 16: '47',\n",
       " 17: '48',\n",
       " 18: '49_69',\n",
       " 19: '4a_6a',\n",
       " 20: '4b_6b',\n",
       " 21: '4c_6c',\n",
       " 22: '4d_6d',\n",
       " 23: '4e',\n",
       " 24: '4f_6f',\n",
       " 25: '50_70',\n",
       " 26: '51',\n",
       " 27: '52',\n",
       " 28: '53_73',\n",
       " 29: '54',\n",
       " 30: '55_75',\n",
       " 31: '56_76',\n",
       " 32: '57_77',\n",
       " 33: '58_78',\n",
       " 34: '59_79',\n",
       " 35: '5a_7a',\n",
       " 36: '61',\n",
       " 37: '62',\n",
       " 38: '64',\n",
       " 39: '65',\n",
       " 40: '66',\n",
       " 41: '67',\n",
       " 42: '68',\n",
       " 43: '6e',\n",
       " 44: '71',\n",
       " 45: '72',\n",
       " 46: '74'}"
      ]
     },
     "execution_count": 57,
     "metadata": {},
     "output_type": "execute_result"
    }
   ],
   "source": [
    "mapping"
   ]
  },
  {
   "cell_type": "code",
   "execution_count": null,
   "metadata": {
    "collapsed": true
   },
   "outputs": [],
   "source": []
  },
  {
   "cell_type": "code",
   "execution_count": null,
   "metadata": {
    "collapsed": true
   },
   "outputs": [],
   "source": []
  },
  {
   "cell_type": "code",
   "execution_count": null,
   "metadata": {
    "collapsed": true
   },
   "outputs": [],
   "source": []
  }
 ],
 "metadata": {
  "kernelspec": {
   "display_name": "Python 2",
   "language": "python",
   "name": "python2"
  },
  "language_info": {
   "codemirror_mode": {
    "name": "ipython",
    "version": 2
   },
   "file_extension": ".py",
   "mimetype": "text/x-python",
   "name": "python",
   "nbconvert_exporter": "python",
   "pygments_lexer": "ipython2",
   "version": "2.7.12"
  }
 },
 "nbformat": 4,
 "nbformat_minor": 2
}
