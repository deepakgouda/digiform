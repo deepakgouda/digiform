{
 "cells": [
  {
   "cell_type": "code",
   "execution_count": 7,
   "metadata": {
    "collapsed": true
   },
   "outputs": [],
   "source": [
    "from os import walk\n",
    "import os\n",
    "import shutil\n",
    "import glob"
   ]
  },
  {
   "cell_type": "code",
   "execution_count": 2,
   "metadata": {
    "collapsed": true,
    "scrolled": true
   },
   "outputs": [],
   "source": [
    "import os\n",
    "folder = \"/home/mrleo/HackOverflow/data/d\"\n",
    "f = []\n",
    "subfolders = [f.path for f in os.scandir(folder) if f.is_dir() ]    \n",
    "\n",
    "for sub in subfolders:\n",
    "    minifolder = [f.path for f in os.scandir(sub) if f.is_dir() ] \n",
    "    for ffolder in minifolder:\n",
    "            files = [f.path for f in os.scandir(ffolder) ]\n",
    "            for file in files:\n",
    "                shutil.move(file, sub)\n",
    "\n"
   ]
  },
  {
   "cell_type": "code",
   "execution_count": 22,
   "metadata": {
    "collapsed": true
   },
   "outputs": [],
   "source": [
    "import os\n",
    "folder = \"/home/mrleo/HackOverflow/data/d\"\n",
    "f = []\n",
    "subfolders = [f.path for f in os.scandir(folder) if f.is_dir() ]    \n",
    "\n",
    "for sub in subfolders:\n",
    "    #print(sub)\n",
    "    a = glob.glob(sub+\"*/*.mit\")\n",
    "    for i in a:\n",
    "        os.remove(i)"
   ]
  },
  {
   "cell_type": "code",
   "execution_count": null,
   "metadata": {
    "collapsed": true
   },
   "outputs": [],
   "source": []
  }
 ],
 "metadata": {
  "kernelspec": {
   "display_name": "Python 2",
   "language": "python",
   "name": "python2"
  },
  "language_info": {
   "codemirror_mode": {
    "name": "ipython",
    "version": 2
   },
   "file_extension": ".py",
   "mimetype": "text/x-python",
   "name": "python",
   "nbconvert_exporter": "python",
   "pygments_lexer": "ipython2",
   "version": "2.7.12"
  }
 },
 "nbformat": 4,
 "nbformat_minor": 2
}
